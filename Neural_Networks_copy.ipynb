{
  "cells": [
    {
      "cell_type": "markdown",
      "metadata": {
        "id": "view-in-github",
        "colab_type": "text"
      },
      "source": [
        "<a href=\"https://colab.research.google.com/github/xalejandrow/Neural-Networks/blob/main/Neural_Networks_copy.ipynb\" target=\"_parent\"><img src=\"https://colab.research.google.com/assets/colab-badge.svg\" alt=\"Open In Colab\"/></a>"
      ]
    },
    {
      "cell_type": "markdown",
      "metadata": {
        "id": "WdJFejbLgiZi"
      },
      "source": [
        "## Recap: Maths in machine learning\n",
        "\n",
        "### 1. Algebra of vectors and matrices\n",
        "\n",
        "#### 1.1 Vectors\n",
        "\n",
        "We have this vector representation:\n",
        "$$ x = \\begin{pmatrix} x_1 \\\\ x_2 \\end{pmatrix} $$\n",
        "\n",
        "The transpose of the two-component column vector is:\n",
        "$$ x^\\mathsf{T}= \\begin{pmatrix} x_1 , x_2 \\end{pmatrix} $$\n",
        "\n",
        "The sum of two column vectors is given by:\n",
        "$$ x+y = \\begin{pmatrix} x_1 \\\\ x_2 \\end{pmatrix} + \\begin{pmatrix} y_1 \\\\ y_2 \\end{pmatrix} = \\begin{pmatrix} x_1+y_1 \\\\ x_2+y_2 \\end{pmatrix} $$\n",
        "\n",
        "And the inner product by:\n",
        "$$ x^\\mathsf{T}y = \\begin{pmatrix} x_1 , x_2 \\end{pmatrix}  \\begin{pmatrix} y_1 \\\\ y_2 \\end{pmatrix} = x_1y_1 + x_2y_2 $$\n",
        "\n",
        "The length or euclidean norm of the vector $x$ is:\n",
        "$$ \\Vert x \\Vert = \\sqrt{x_1^2 + x_2^2} = \\sqrt{x^\\mathsf{T}x}$$\n",
        "\n",
        "As we can see, the inner product of $x$ and $y$ can be expressed in terms of the vector lenghts and the angle $\\theta$ between the two vectors:\n",
        "$$ x^\\mathsf{T}y = \\Vert x \\Vert \\Vert y \\Vert \\cos\\theta$$\n",
        "\n",
        "If $\\theta$ is 90 degrees, then the vectors are said to be *orthogonal*, in which case: \n",
        "$$ x^\\mathsf{T}y = 0$$\n",
        "\n",
        "We can see that any vector can be expressed in terms of orthogonal *unit vectors*:\n",
        "$$ x = \\begin{pmatrix} x_1 \\\\ x_2 \\end{pmatrix} = x_1 \\begin{pmatrix} 1 \\\\ 0 \\end{pmatrix} + x_2 \\begin{pmatrix} 0 \\\\ 1 \\end{pmatrix} $$\n",
        "\n",
        "$$ x = x_1i + x_2j$$\n"
      ]
    },
    {
      "cell_type": "markdown",
      "metadata": {
        "id": "85ty-3HEgiZl"
      },
      "source": [
        "#### 1.2 Matrices\n",
        "\n",
        "A 2x2 matrix is written in the form\n",
        "\n",
        "$$ \\mathbf{A} = \\begin{pmatrix} a_{11} & a_{12}\\\\ a_{21} & a_{22} \\end{pmatrix} $$\n",
        "\n",
        "The notation per each element in the matrix is: first index means row, second index means column. When a matrix is multiplied with a vector, the result is another vector:\n",
        "\n",
        "$$ \\mathbf{A}x = \\begin{pmatrix} a_{11} & a_{12}\\\\ a_{21} & a_{22} \\end{pmatrix} \\begin{pmatrix} x_1 \\\\ x_2 \\end{pmatrix} = \\begin{pmatrix} a_{11}x_1 + a_{12}x_2 \\\\ a_{21}x_1 + a_{22}x_2 \\end{pmatrix} $$\n",
        "\n",
        "In general, for $ \\mathbf{A} = (a_1, a_2 ... a_N)$, where the vectors $a_i$ are the columns of $\\mathbf{A}$:\n",
        "$$ \\mathbf{A}x = x_1a_1 + x_2a_2 + ... + x_Na_N $$\n",
        "\n",
        "The product of two 2x2 matrices is given by:\n",
        "$$ \\mathbf{A}\\mathbf{B} = \\begin{pmatrix} a_{11} & a_{12}\\\\ a_{21} & a_{22} \\end{pmatrix} \\begin{pmatrix} b_{11} & b_{12}\\\\ b_{21} & b_{22} \\end{pmatrix} = \\begin{pmatrix} a_{11}b_{11} + a_{12}b_{21} & a_{11}b_{12} + a_{12}b_{22} \\\\ a_{21}b_{11} + a_{22}b_{21} & a_{21}b_{12} + a_{22}b_{22} \\end{pmatrix}$$\n",
        "\n",
        "The matrix product is allowed whenever $\\mathbf{A}$ has the same number of columns as $\\mathbf{B}$ has rows. So for this case, if $\\mathbf{A}$ has dimension $l$ x $m$ and $\\mathbf{B}$ has dimension $m$ x $n$ then $\\mathbf{A}\\mathbf{B}$ is $l$ x $n$ with elements:\n",
        "$$ (\\mathbf{A}\\mathbf{B})_{ij} = (\\sum_{k=1}^m a_{ik}b_{kj}) : i= 1...l, j= 1...n$$\n",
        "\n",
        "Note that matrix multiplication is not commutative, this means $\\mathbf{A}\\mathbf{B} \\neq \\mathbf{B}\\mathbf{A}$ in general. However it is associative:\n",
        "$$ (\\mathbf{A}\\mathbf{B})\\mathbf{C} = \\mathbf{A}(\\mathbf{B}\\mathbf{C})$$\n",
        "\n"
      ]
    },
    {
      "cell_type": "code",
      "execution_count": null,
      "metadata": {
        "id": "4PEGsqMhgiZm",
        "outputId": "ae3314d5-ffcc-4b9f-ba9d-6846ef7df53d"
      },
      "outputs": [
        {
          "data": {
            "text/plain": [
              "array([3, 7])"
            ]
          },
          "execution_count": 12,
          "metadata": {},
          "output_type": "execute_result"
        }
      ],
      "source": [
        "# Example\n",
        "A = np.array([[1,2],[3,4]])\n",
        "B = np.array([1,1])\n",
        "np.dot(A,B)"
      ]
    },
    {
      "cell_type": "code",
      "execution_count": null,
      "metadata": {
        "id": "py6UdgztgiZn",
        "outputId": "8b0bafc7-e39f-4ea2-96e4-c3a70bcf14d2"
      },
      "outputs": [
        {
          "data": {
            "text/plain": [
              "array([[1, 2],\n",
              "       [3, 4]])"
            ]
          },
          "execution_count": 15,
          "metadata": {},
          "output_type": "execute_result"
        }
      ],
      "source": [
        "# This is different\n",
        "A * B"
      ]
    },
    {
      "cell_type": "code",
      "execution_count": null,
      "metadata": {
        "id": "Yp7Cy696giZo",
        "outputId": "ffcf4547-490b-4062-f166-0b79fe68913c"
      },
      "outputs": [
        {
          "data": {
            "text/plain": [
              "array([3, 7])"
            ]
          },
          "execution_count": 17,
          "metadata": {},
          "output_type": "execute_result"
        }
      ],
      "source": [
        "# Another way to create a multiplication\n",
        "A @ B"
      ]
    },
    {
      "cell_type": "markdown",
      "metadata": {
        "id": "GxMZn5c7giZp"
      },
      "source": [
        "![Neural network representation](https://www.datasciencecentral.com/wp-content/uploads/2021/10/2808330901.jpeg)"
      ]
    },
    {
      "cell_type": "markdown",
      "metadata": {
        "id": "R2miPK1YgiZq"
      },
      "source": [
        "## 2. Creating a Neural Network\n",
        "\n",
        "Suppose we have the following table:\n",
        "\n",
        "| X1 | X2 | X3 | Y1 |\n",
        "|----|----|----|----|\n",
        "| 0  | 0  | 1  | 0  |\n",
        "| 1  | 1  | 1  | 1  |\n",
        "| 1  | 0  | 1  | 1  |\n",
        "| 0  | 1  | 1  | 0  |\n",
        "\n",
        "As we can see, we have 3 IVs and 1 DV, and by simply using measuring statistics we could see that X1 is perfectly correlated with Y1. Our neural network will have two processes: forward propagation, when creating the inner layers by multiplying the input (IVs) with weights and the backpropagation, when updating the weights.\n",
        "\n",
        "\n",
        "\n"
      ]
    },
    {
      "cell_type": "code",
      "execution_count": null,
      "metadata": {
        "id": "HVlStpTzgiZq",
        "outputId": "f0eb4e41-9af4-49a4-85c1-19aecfa0061f"
      },
      "outputs": [
        {
          "name": "stdout",
          "output_type": "stream",
          "text": [
            "Output After Training:\n",
            "[[0.00966449]\n",
            " [0.00786506]\n",
            " [0.99358898]\n",
            " [0.99211957]]\n"
          ]
        }
      ],
      "source": [
        "import numpy as np\n",
        "\n",
        "# Let's create a sigmoid function (our non linear function)\n",
        "def nonlin(x,deriv=False):\n",
        "    if(deriv==True):\n",
        "        return x*(1-x)\n",
        "    return 1/(1+np.exp(-x))\n",
        "\n",
        "# input dataset\n",
        "X = np.array([[0,0,1],\n",
        "              [0,1,1],\n",
        "              [1,0,1],\n",
        "              [1,1,1]])\n",
        "\n",
        "# output dataset           \n",
        "y = np.array([[0,0,1,1]]).T\n",
        "\n",
        "# seed random numbers to make calculation\n",
        "np.random.seed(1)\n",
        "\n",
        "# initialize weights randomly with mean 0\n",
        "syn0 = 2*np.random.random((3,1)) - 1\n",
        " \n",
        "for iter in range(10000):\n",
        "    # forward propagation\n",
        "    l0 = X\n",
        "    l1 = nonlin(np.dot(l0,syn0))\n",
        "    # how much did we miss?\n",
        "    l1_error = y - l1\n",
        "    # multiply how much we missed by the\n",
        "    # slope of the sigmoid at the values in l1\n",
        "    l1_delta = l1_error * nonlin(l1,True)\n",
        "    # update weights\n",
        "    syn0 += np.dot(l0.T,l1_delta)\n",
        "\n",
        "print(\"Output After Training:\")\n",
        "print(l1)"
      ]
    },
    {
      "cell_type": "code",
      "execution_count": null,
      "metadata": {
        "id": "tDlPhnZlgiZs",
        "outputId": "33649ce2-7647-4140-acd5-fe8a666e7599"
      },
      "outputs": [
        {
          "data": {
            "text/plain": [
              "array([[0.00966449],\n",
              "       [0.00786506],\n",
              "       [0.99358898],\n",
              "       [0.99211957]])"
            ]
          },
          "execution_count": 5,
          "metadata": {},
          "output_type": "execute_result"
        }
      ],
      "source": [
        "# Hidden layer\n",
        "l1"
      ]
    },
    {
      "cell_type": "code",
      "execution_count": null,
      "metadata": {
        "id": "0oBWEsOvgiZt",
        "outputId": "a49a0743-7210-4625-d672-a995a044fca1"
      },
      "outputs": [
        {
          "data": {
            "text/plain": [
              "array([[ 9.67299303],\n",
              "       [-0.2078435 ],\n",
              "       [-4.62963669]])"
            ]
          },
          "execution_count": 6,
          "metadata": {},
          "output_type": "execute_result"
        }
      ],
      "source": [
        "# Weights\n",
        "syn0"
      ]
    }
  ],
  "metadata": {
    "kernelspec": {
      "display_name": "Python 3.7.10 ('Commons')",
      "language": "python",
      "name": "python3"
    },
    "language_info": {
      "codemirror_mode": {
        "name": "ipython",
        "version": 3
      },
      "file_extension": ".py",
      "mimetype": "text/x-python",
      "name": "python",
      "nbconvert_exporter": "python",
      "pygments_lexer": "ipython3",
      "version": "3.7.10"
    },
    "orig_nbformat": 4,
    "vscode": {
      "interpreter": {
        "hash": "bc7f7a2d7b5a13e1df9879b693cf35a001b0abe7ad7fabfa2efe5a3b8907473a"
      }
    },
    "colab": {
      "name": "Neural_Networks copy.ipynb",
      "provenance": [],
      "include_colab_link": true
    }
  },
  "nbformat": 4,
  "nbformat_minor": 0
}